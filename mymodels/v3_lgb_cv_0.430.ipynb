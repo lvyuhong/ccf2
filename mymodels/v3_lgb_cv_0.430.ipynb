{
 "cells": [
  {
   "cell_type": "code",
   "execution_count": 1,
   "metadata": {},
   "outputs": [
    {
     "name": "stderr",
     "output_type": "stream",
     "text": [
      "D:\\programfiles\\anaconda3\\lib\\site-packages\\sklearn\\cross_validation.py:41: DeprecationWarning: This module was deprecated in version 0.18 in favor of the model_selection module into which all the refactored classes and functions are moved. Also note that the interface of the new CV iterators are different from that of this module. This module will be removed in 0.20.\n",
      "  \"This module will be removed in 0.20.\", DeprecationWarning)\n",
      "D:\\programfiles\\anaconda3\\lib\\site-packages\\sklearn\\grid_search.py:42: DeprecationWarning: This module was deprecated in version 0.18 in favor of the model_selection module into which all the refactored classes and functions are moved. This module will be removed in 0.20.\n",
      "  DeprecationWarning)\n"
     ]
    }
   ],
   "source": [
    "import ccf2\n",
    "import numpy as np\n",
    "import pandas as pd\n",
    "import matplotlib.pyplot as plt\n",
    "import os\n",
    "import gc\n",
    "import warnings\n",
    "import lightgbm as lgb\n",
    "import xgboost\n",
    "from sklearn.model_selection import KFold,StratifiedKFold,train_test_split,cross_validate\n",
    "from sklearn.metrics import mean_squared_error as mse\n",
    "from sklearn.grid_search import GridSearchCV\n",
    "warnings.filterwarnings('ignore')\n",
    "\n",
    "path = '../input/'"
   ]
  },
  {
   "cell_type": "markdown",
   "metadata": {},
   "source": [
    "# load data"
   ]
  },
  {
   "cell_type": "code",
   "execution_count": 2,
   "metadata": {},
   "outputs": [],
   "source": [
    "data = ccf2.loaddata(path)"
   ]
  },
  {
   "cell_type": "code",
   "execution_count": 3,
   "metadata": {},
   "outputs": [
    {
     "data": {
      "text/plain": [
       "(36960, 12)"
      ]
     },
     "execution_count": 3,
     "metadata": {},
     "output_type": "execute_result"
    }
   ],
   "source": [
    "data.shape"
   ]
  },
  {
   "cell_type": "markdown",
   "metadata": {},
   "source": [
    "# feature"
   ]
  },
  {
   "cell_type": "markdown",
   "metadata": {},
   "source": [
    "## 构建特征"
   ]
  },
  {
   "cell_type": "code",
   "execution_count": 4,
   "metadata": {},
   "outputs": [],
   "source": [
    "## 平移特征\n",
    "data,shift_feat = ccf2.genShitFeat(data,[12])"
   ]
  },
  {
   "cell_type": "code",
   "execution_count": 5,
   "metadata": {},
   "outputs": [
    {
     "name": "stdout",
     "output_type": "stream",
     "text": [
      "统计列的sum,mean,max,min,分位数0.2,分位数0.5,分位数0.8\n",
      "构造特征: adcode\n",
      "构造特征: bodyType\n",
      "构造特征: model\n",
      "构造特征: regMonth\n",
      "构造特征: mt\n"
     ]
    }
   ],
   "source": [
    "## 单列分组特征\n",
    "fea_list = ['adcode','bodyType','model','regMonth','mt']\n",
    "data,stat_feat = ccf2.genStatFeat(data,fea_list)"
   ]
  },
  {
   "cell_type": "code",
   "execution_count": 6,
   "metadata": {},
   "outputs": [
    {
     "name": "stdout",
     "output_type": "stream",
     "text": [
      "统计列的sum,mean,max,min,分位数0.2,分位数0.5,分位数0.8\n",
      "构造特征: adcode_model\n",
      "构造特征: adcode_bodyType\n",
      "构造特征: adcode_month\n",
      "构造特征: adcode_mt\n",
      "构造特征: bodyType_month\n",
      "构造特征: bodyType_mt\n",
      "构造特征: model_month\n",
      "构造特征: model_mt\n"
     ]
    }
   ],
   "source": [
    "## 多列分组特征\n",
    "data['adcode_model'] = data['adcode']+data['model']\n",
    "data['adcode_bodyType'] = data['adcode']+data['bodyType']\n",
    "data['adcode_month'] = data['adcode']+data['regMonth']\n",
    "data['adcode_mt'] = data['adcode']+data['mt']\n",
    "\n",
    "data['bodyType_month'] = data['bodyType']+data['regMonth']\n",
    "data['bodyType_mt'] = data['bodyType']+data['mt']\n",
    "data['model_month'] = data['model']+data['regMonth']\n",
    "data['model_mt'] = data['model']+data['mt']\n",
    "\n",
    "# data['adcode_model_month'] = data['adcode_model']*100+data['regMonth']\n",
    "# data['adcode_model_mt'] = data['adcode_model']*100+data['mt']\n",
    "# data['adcode_bodyType_month'] = data['adcode_bodyType']*100+data['regMonth']\n",
    "# data['adcode_bodyType_mt'] = data['adcode_bodyType']*100+data['mt']\n",
    "\n",
    "fea_list2 = ['adcode_model','adcode_bodyType','adcode_month','adcode_mt',\n",
    "            'bodyType_month','bodyType_mt','model_month','model_mt'] \n",
    "\n",
    "data,stat_feat2 = ccf2.genStatFeat(data,fea_list2)"
   ]
  },
  {
   "cell_type": "code",
   "execution_count": 7,
   "metadata": {},
   "outputs": [],
   "source": [
    "num_feat = ['regYear']\n",
    "cate_feat1 = ['adcode', 'bodyType', 'model', 'regMonth']\n",
    "cate_feat = cate_feat1+fea_list+fea_list2\n",
    "features = cate_feat1+num_feat+stat_feat+stat_feat2+shift_feat"
   ]
  },
  {
   "cell_type": "code",
   "execution_count": 8,
   "metadata": {},
   "outputs": [
    {
     "data": {
      "text/plain": [
       "(36960, 115)"
      ]
     },
     "execution_count": 8,
     "metadata": {},
     "output_type": "execute_result"
    }
   ],
   "source": [
    "data.shape"
   ]
  },
  {
   "cell_type": "markdown",
   "metadata": {},
   "source": [
    "## label"
   ]
  },
  {
   "cell_type": "code",
   "execution_count": 9,
   "metadata": {},
   "outputs": [],
   "source": [
    "import math\n",
    "# data['model_weight'] = data.groupby('model')['label'].transform('mean') \n",
    "# data['n_label'] = data['label'] / data['model_weight'] \n",
    "data['log_label'] = data['label'].apply(lambda x: math.log(x))"
   ]
  },
  {
   "cell_type": "markdown",
   "metadata": {},
   "source": [
    "# 构建模型"
   ]
  },
  {
   "cell_type": "markdown",
   "metadata": {},
   "source": [
    "## 拆分数据"
   ]
  },
  {
   "cell_type": "code",
   "execution_count": 10,
   "metadata": {},
   "outputs": [],
   "source": [
    "train_idx = (data['mt'] <= 24)\n",
    "test_idx = (data['mt'] > 24)\n",
    "\n",
    "trainSet = data.loc[train_idx]\n",
    "testSet = data.loc[test_idx]\n",
    "# train_x = data[train_idx][features]\n",
    "# train_y = data[train_idx]['n_label']\n",
    "# train_y2 = data[train_idx]['label']\n",
    "# valid_idx = (data['mt'].between(21, 24))\n",
    "# valid_x = data[valid_idx][features]\n",
    "# valid_y = data[valid_idx]['n_label']"
   ]
  },
  {
   "cell_type": "code",
   "execution_count": 29,
   "metadata": {},
   "outputs": [
    {
     "data": {
      "text/html": [
       "<div>\n",
       "<style scoped>\n",
       "    .dataframe tbody tr th:only-of-type {\n",
       "        vertical-align: middle;\n",
       "    }\n",
       "\n",
       "    .dataframe tbody tr th {\n",
       "        vertical-align: top;\n",
       "    }\n",
       "\n",
       "    .dataframe thead th {\n",
       "        text-align: right;\n",
       "    }\n",
       "</style>\n",
       "<table border=\"1\" class=\"dataframe\">\n",
       "  <thead>\n",
       "    <tr style=\"text-align: right;\">\n",
       "      <th></th>\n",
       "      <th>adcode</th>\n",
       "      <th>bodyType</th>\n",
       "      <th>id</th>\n",
       "      <th>model</th>\n",
       "      <th>province</th>\n",
       "      <th>regMonth</th>\n",
       "      <th>regYear</th>\n",
       "      <th>popularity</th>\n",
       "      <th>carCommentVolum</th>\n",
       "      <th>newsReplyVolum</th>\n",
       "      <th>...</th>\n",
       "      <th>adcode_bodyType_month_median5</th>\n",
       "      <th>adcode_bodyType_month_median8</th>\n",
       "      <th>adcode_bodyType_mt_sum</th>\n",
       "      <th>adcode_bodyType_mt_mean</th>\n",
       "      <th>adcode_bodyType_mt_max</th>\n",
       "      <th>adcode_bodyType_mt_mim</th>\n",
       "      <th>adcode_bodyType_mt_median2</th>\n",
       "      <th>adcode_bodyType_mt_median5</th>\n",
       "      <th>adcode_bodyType_mt_median8</th>\n",
       "      <th>log_label</th>\n",
       "    </tr>\n",
       "  </thead>\n",
       "  <tbody>\n",
       "    <tr>\n",
       "      <th>0</th>\n",
       "      <td>310000</td>\n",
       "      <td>0</td>\n",
       "      <td>0</td>\n",
       "      <td>0</td>\n",
       "      <td>上海</td>\n",
       "      <td>1</td>\n",
       "      <td>2016</td>\n",
       "      <td>1479.0</td>\n",
       "      <td>11.0</td>\n",
       "      <td>106.0</td>\n",
       "      <td>...</td>\n",
       "      <td>312.0</td>\n",
       "      <td>452.0</td>\n",
       "      <td>11822.0</td>\n",
       "      <td>472.88</td>\n",
       "      <td>1572.0</td>\n",
       "      <td>165.0</td>\n",
       "      <td>291.4</td>\n",
       "      <td>374.0</td>\n",
       "      <td>486.2</td>\n",
       "      <td>5.676754</td>\n",
       "    </tr>\n",
       "    <tr>\n",
       "      <th>1</th>\n",
       "      <td>530000</td>\n",
       "      <td>0</td>\n",
       "      <td>0</td>\n",
       "      <td>0</td>\n",
       "      <td>云南</td>\n",
       "      <td>1</td>\n",
       "      <td>2016</td>\n",
       "      <td>1594.0</td>\n",
       "      <td>11.0</td>\n",
       "      <td>106.0</td>\n",
       "      <td>...</td>\n",
       "      <td>383.0</td>\n",
       "      <td>519.4</td>\n",
       "      <td>11308.0</td>\n",
       "      <td>452.32</td>\n",
       "      <td>1704.0</td>\n",
       "      <td>77.0</td>\n",
       "      <td>238.6</td>\n",
       "      <td>351.0</td>\n",
       "      <td>624.8</td>\n",
       "      <td>6.144186</td>\n",
       "    </tr>\n",
       "    <tr>\n",
       "      <th>2</th>\n",
       "      <td>150000</td>\n",
       "      <td>0</td>\n",
       "      <td>0</td>\n",
       "      <td>0</td>\n",
       "      <td>内蒙古</td>\n",
       "      <td>1</td>\n",
       "      <td>2016</td>\n",
       "      <td>1479.0</td>\n",
       "      <td>11.0</td>\n",
       "      <td>106.0</td>\n",
       "      <td>...</td>\n",
       "      <td>259.5</td>\n",
       "      <td>471.8</td>\n",
       "      <td>8204.0</td>\n",
       "      <td>328.16</td>\n",
       "      <td>939.0</td>\n",
       "      <td>50.0</td>\n",
       "      <td>165.8</td>\n",
       "      <td>260.0</td>\n",
       "      <td>471.8</td>\n",
       "      <td>5.549076</td>\n",
       "    </tr>\n",
       "    <tr>\n",
       "      <th>3</th>\n",
       "      <td>110000</td>\n",
       "      <td>0</td>\n",
       "      <td>0</td>\n",
       "      <td>0</td>\n",
       "      <td>北京</td>\n",
       "      <td>1</td>\n",
       "      <td>2016</td>\n",
       "      <td>2370.0</td>\n",
       "      <td>11.0</td>\n",
       "      <td>106.0</td>\n",
       "      <td>...</td>\n",
       "      <td>435.5</td>\n",
       "      <td>760.2</td>\n",
       "      <td>15517.0</td>\n",
       "      <td>620.68</td>\n",
       "      <td>1119.0</td>\n",
       "      <td>130.0</td>\n",
       "      <td>407.4</td>\n",
       "      <td>541.0</td>\n",
       "      <td>900.8</td>\n",
       "      <td>6.011267</td>\n",
       "    </tr>\n",
       "    <tr>\n",
       "      <th>4</th>\n",
       "      <td>510000</td>\n",
       "      <td>0</td>\n",
       "      <td>0</td>\n",
       "      <td>0</td>\n",
       "      <td>四川</td>\n",
       "      <td>1</td>\n",
       "      <td>2016</td>\n",
       "      <td>3562.0</td>\n",
       "      <td>11.0</td>\n",
       "      <td>106.0</td>\n",
       "      <td>...</td>\n",
       "      <td>670.0</td>\n",
       "      <td>1230.8</td>\n",
       "      <td>24635.0</td>\n",
       "      <td>985.40</td>\n",
       "      <td>3386.0</td>\n",
       "      <td>222.0</td>\n",
       "      <td>430.8</td>\n",
       "      <td>739.0</td>\n",
       "      <td>1459.8</td>\n",
       "      <td>6.413459</td>\n",
       "    </tr>\n",
       "  </tbody>\n",
       "</table>\n",
       "<p>5 rows × 148 columns</p>\n",
       "</div>"
      ],
      "text/plain": [
       "   adcode  bodyType  id  model province  regMonth  regYear  popularity  \\\n",
       "0  310000         0   0      0       上海         1     2016      1479.0   \n",
       "1  530000         0   0      0       云南         1     2016      1594.0   \n",
       "2  150000         0   0      0      内蒙古         1     2016      1479.0   \n",
       "3  110000         0   0      0       北京         1     2016      2370.0   \n",
       "4  510000         0   0      0       四川         1     2016      3562.0   \n",
       "\n",
       "   carCommentVolum  newsReplyVolum    ...      adcode_bodyType_month_median5  \\\n",
       "0             11.0           106.0    ...                              312.0   \n",
       "1             11.0           106.0    ...                              383.0   \n",
       "2             11.0           106.0    ...                              259.5   \n",
       "3             11.0           106.0    ...                              435.5   \n",
       "4             11.0           106.0    ...                              670.0   \n",
       "\n",
       "   adcode_bodyType_month_median8  adcode_bodyType_mt_sum  \\\n",
       "0                          452.0                 11822.0   \n",
       "1                          519.4                 11308.0   \n",
       "2                          471.8                  8204.0   \n",
       "3                          760.2                 15517.0   \n",
       "4                         1230.8                 24635.0   \n",
       "\n",
       "   adcode_bodyType_mt_mean  adcode_bodyType_mt_max  adcode_bodyType_mt_mim  \\\n",
       "0                   472.88                  1572.0                   165.0   \n",
       "1                   452.32                  1704.0                    77.0   \n",
       "2                   328.16                   939.0                    50.0   \n",
       "3                   620.68                  1119.0                   130.0   \n",
       "4                   985.40                  3386.0                   222.0   \n",
       "\n",
       "   adcode_bodyType_mt_median2  adcode_bodyType_mt_median5  \\\n",
       "0                       291.4                       374.0   \n",
       "1                       238.6                       351.0   \n",
       "2                       165.8                       260.0   \n",
       "3                       407.4                       541.0   \n",
       "4                       430.8                       739.0   \n",
       "\n",
       "   adcode_bodyType_mt_median8  log_label  \n",
       "0                       486.2   5.676754  \n",
       "1                       624.8   6.144186  \n",
       "2                       471.8   5.549076  \n",
       "3                       900.8   6.011267  \n",
       "4                      1459.8   6.413459  \n",
       "\n",
       "[5 rows x 148 columns]"
      ]
     },
     "execution_count": 29,
     "metadata": {},
     "output_type": "execute_result"
    }
   ],
   "source": [
    "trainSet.head()"
   ]
  },
  {
   "cell_type": "markdown",
   "metadata": {},
   "source": [
    "## cv 交叉验证"
   ]
  },
  {
   "cell_type": "code",
   "execution_count": 11,
   "metadata": {},
   "outputs": [],
   "source": [
    "lgb_model = lgb.LGBMRegressor(\n",
    "        num_leaves=32, reg_alpha=1, reg_lambda=0.1, objective='mse',\n",
    "        max_depth=-1, learning_rate=0.05, min_child_samples=5, random_state=np.random.randint(1000),\n",
    "        n_estimators=1000, subsample=0.8, colsample_bytree=0.8,\n",
    "    )"
   ]
  },
  {
   "cell_type": "code",
   "execution_count": 34,
   "metadata": {},
   "outputs": [],
   "source": [
    "# from sklearn.utils.multiclass import type_of_target\n",
    "# type_of_target(train_y)"
   ]
  },
  {
   "cell_type": "code",
   "execution_count": 12,
   "metadata": {},
   "outputs": [
    {
     "data": {
      "text/plain": [
       "210"
      ]
     },
     "execution_count": 12,
     "metadata": {},
     "output_type": "execute_result"
    }
   ],
   "source": [
    "gc.collect()"
   ]
  },
  {
   "cell_type": "code",
   "execution_count": 13,
   "metadata": {},
   "outputs": [
    {
     "name": "stdout",
     "output_type": "stream",
     "text": [
      "------------------------------- Kflod: 1 ----------------------------\n",
      "Training until validation scores don't improve for 50 rounds.\n",
      "[100]\ttraining's l2: 0.033445\tvalid_1's l2: 0.13663\n",
      "[200]\ttraining's l2: 0.0180686\tvalid_1's l2: 0.13629\n",
      "[300]\ttraining's l2: 0.012797\tvalid_1's l2: 0.136014\n",
      "Early stopping, best iteration is:\n",
      "[337]\ttraining's l2: 0.0115603\tvalid_1's l2: 0.135801\n",
      "------------------------------- Kflod: 2 ----------------------------\n",
      "Training until validation scores don't improve for 50 rounds.\n",
      "[100]\ttraining's l2: 0.0359956\tvalid_1's l2: 0.0780015\n",
      "Early stopping, best iteration is:\n",
      "[69]\ttraining's l2: 0.0509815\tvalid_1's l2: 0.0767884\n",
      "------------------------------- Kflod: 3 ----------------------------\n",
      "Training until validation scores don't improve for 50 rounds.\n",
      "[100]\ttraining's l2: 0.0355738\tvalid_1's l2: 0.142616\n",
      "[200]\ttraining's l2: 0.0192585\tvalid_1's l2: 0.14048\n",
      "[300]\ttraining's l2: 0.0134055\tvalid_1's l2: 0.139386\n",
      "[400]\ttraining's l2: 0.00991565\tvalid_1's l2: 0.139139\n",
      "Early stopping, best iteration is:\n",
      "[354]\ttraining's l2: 0.0113905\tvalid_1's l2: 0.139063\n",
      "------------------------------- Kflod: 4 ----------------------------\n",
      "Training until validation scores don't improve for 50 rounds.\n",
      "[100]\ttraining's l2: 0.0354141\tvalid_1's l2: 0.136419\n",
      "[200]\ttraining's l2: 0.019139\tvalid_1's l2: 0.133364\n",
      "[300]\ttraining's l2: 0.0134664\tvalid_1's l2: 0.131512\n",
      "[400]\ttraining's l2: 0.0098721\tvalid_1's l2: 0.130989\n",
      "[500]\ttraining's l2: 0.00739048\tvalid_1's l2: 0.130815\n",
      "Early stopping, best iteration is:\n",
      "[455]\ttraining's l2: 0.00840719\tvalid_1's l2: 0.130613\n",
      "------------------------------- Kflod: 5 ----------------------------\n",
      "Training until validation scores don't improve for 50 rounds.\n",
      "[100]\ttraining's l2: 0.0332709\tvalid_1's l2: 0.168175\n",
      "Early stopping, best iteration is:\n",
      "[100]\ttraining's l2: 0.0332709\tvalid_1's l2: 0.168175\n"
     ]
    }
   ],
   "source": [
    "n_split = 5\n",
    "kfd = KFold(n_splits=n_split,random_state=1992)\n",
    "# res_prob = pd.DataFrame()\n",
    "res = pd.DataFrame()\n",
    "\n",
    "index = 1\n",
    "for train_idx,test_idx in kfd.split(trainSet):\n",
    "    print('-------------------------------','Kflod:',index,'----------------------------')\n",
    "    \n",
    "    train_x,train_y = trainSet.loc[train_idx][features],trainSet.loc[train_idx]['log_label']\n",
    "    valid_x,valid_y = trainSet.loc[test_idx][features],trainSet.loc[test_idx]['log_label']\n",
    "    lgb_model.fit(train_x,train_y, \n",
    "                  eval_set=[(train_x,train_y),\n",
    "                            (valid_x,valid_y)],\n",
    "                  categorical_feature=cate_feat, \n",
    "                  early_stopping_rounds=50,\n",
    "                  verbose=100)\n",
    "#     x_pred = lgb_model.predict(train_x[test_idx], num_iteration=lgb_model.best_iteration_)\n",
    "    gc.collect()\n",
    "    test_pred = lgb_model.predict(testSet[features], num_iteration=lgb_model.best_iteration_)\n",
    "    res['prob_%s' % str(index)] = test_pred\n",
    "    index = index+1"
   ]
  },
  {
   "cell_type": "markdown",
   "metadata": {},
   "source": [
    "## 生成提交文件"
   ]
  },
  {
   "cell_type": "code",
   "execution_count": 14,
   "metadata": {},
   "outputs": [
    {
     "data": {
      "text/html": [
       "<div>\n",
       "<style scoped>\n",
       "    .dataframe tbody tr th:only-of-type {\n",
       "        vertical-align: middle;\n",
       "    }\n",
       "\n",
       "    .dataframe tbody tr th {\n",
       "        vertical-align: top;\n",
       "    }\n",
       "\n",
       "    .dataframe thead th {\n",
       "        text-align: right;\n",
       "    }\n",
       "</style>\n",
       "<table border=\"1\" class=\"dataframe\">\n",
       "  <thead>\n",
       "    <tr style=\"text-align: right;\">\n",
       "      <th></th>\n",
       "      <th>prob_1</th>\n",
       "      <th>prob_2</th>\n",
       "      <th>prob_3</th>\n",
       "      <th>prob_4</th>\n",
       "      <th>prob_5</th>\n",
       "    </tr>\n",
       "  </thead>\n",
       "  <tbody>\n",
       "    <tr>\n",
       "      <th>0</th>\n",
       "      <td>5.685555</td>\n",
       "      <td>5.603918</td>\n",
       "      <td>5.571715</td>\n",
       "      <td>5.681709</td>\n",
       "      <td>5.520856</td>\n",
       "    </tr>\n",
       "    <tr>\n",
       "      <th>1</th>\n",
       "      <td>5.874216</td>\n",
       "      <td>5.684645</td>\n",
       "      <td>5.733518</td>\n",
       "      <td>5.926372</td>\n",
       "      <td>5.649046</td>\n",
       "    </tr>\n",
       "    <tr>\n",
       "      <th>2</th>\n",
       "      <td>5.298278</td>\n",
       "      <td>5.188856</td>\n",
       "      <td>5.153938</td>\n",
       "      <td>5.322710</td>\n",
       "      <td>5.165938</td>\n",
       "    </tr>\n",
       "    <tr>\n",
       "      <th>3</th>\n",
       "      <td>6.039564</td>\n",
       "      <td>5.776816</td>\n",
       "      <td>5.923146</td>\n",
       "      <td>6.032821</td>\n",
       "      <td>5.824777</td>\n",
       "    </tr>\n",
       "    <tr>\n",
       "      <th>4</th>\n",
       "      <td>6.144074</td>\n",
       "      <td>6.028993</td>\n",
       "      <td>5.966230</td>\n",
       "      <td>6.211716</td>\n",
       "      <td>6.083248</td>\n",
       "    </tr>\n",
       "  </tbody>\n",
       "</table>\n",
       "</div>"
      ],
      "text/plain": [
       "     prob_1    prob_2    prob_3    prob_4    prob_5\n",
       "0  5.685555  5.603918  5.571715  5.681709  5.520856\n",
       "1  5.874216  5.684645  5.733518  5.926372  5.649046\n",
       "2  5.298278  5.188856  5.153938  5.322710  5.165938\n",
       "3  6.039564  5.776816  5.923146  6.032821  5.824777\n",
       "4  6.144074  6.028993  5.966230  6.211716  6.083248"
      ]
     },
     "execution_count": 14,
     "metadata": {},
     "output_type": "execute_result"
    }
   ],
   "source": [
    "res.head()"
   ]
  },
  {
   "cell_type": "code",
   "execution_count": 15,
   "metadata": {},
   "outputs": [],
   "source": [
    "sub = ccf2.genLogSub(data,res,n_split)"
   ]
  },
  {
   "cell_type": "code",
   "execution_count": 16,
   "metadata": {},
   "outputs": [],
   "source": [
    "sub.to_csv(path+'sub/sub_cv3.csv',index=False,header=True)"
   ]
  },
  {
   "cell_type": "markdown",
   "metadata": {},
   "source": [
    "## 特征重要性分析"
   ]
  },
  {
   "cell_type": "code",
   "execution_count": 22,
   "metadata": {},
   "outputs": [],
   "source": [
    "df_imp = pd.DataFrame()\n",
    "imp = lgb_model.feature_importances_\n",
    "df_imp['features'] = features\n",
    "df_imp['import'] = imp\n",
    "df_imp.sort_values(by=['import'],ascending=False,inplace=True)"
   ]
  },
  {
   "cell_type": "code",
   "execution_count": 27,
   "metadata": {},
   "outputs": [
    {
     "data": {
      "text/html": [
       "<div>\n",
       "<style scoped>\n",
       "    .dataframe tbody tr th:only-of-type {\n",
       "        vertical-align: middle;\n",
       "    }\n",
       "\n",
       "    .dataframe tbody tr th {\n",
       "        vertical-align: top;\n",
       "    }\n",
       "\n",
       "    .dataframe thead th {\n",
       "        text-align: right;\n",
       "    }\n",
       "</style>\n",
       "<table border=\"1\" class=\"dataframe\">\n",
       "  <thead>\n",
       "    <tr style=\"text-align: right;\">\n",
       "      <th></th>\n",
       "      <th>features</th>\n",
       "      <th>import</th>\n",
       "    </tr>\n",
       "  </thead>\n",
       "  <tbody>\n",
       "    <tr>\n",
       "      <th>22</th>\n",
       "      <td>model</td>\n",
       "      <td>5714</td>\n",
       "    </tr>\n",
       "    <tr>\n",
       "      <th>6</th>\n",
       "      <td>adcode</td>\n",
       "      <td>3678</td>\n",
       "    </tr>\n",
       "    <tr>\n",
       "      <th>5</th>\n",
       "      <td>shift_model_adcode_mt_label_12</td>\n",
       "      <td>3170</td>\n",
       "    </tr>\n",
       "    <tr>\n",
       "      <th>2</th>\n",
       "      <td>model</td>\n",
       "      <td>896</td>\n",
       "    </tr>\n",
       "    <tr>\n",
       "      <th>30</th>\n",
       "      <td>regMonth</td>\n",
       "      <td>889</td>\n",
       "    </tr>\n",
       "  </tbody>\n",
       "</table>\n",
       "</div>"
      ],
      "text/plain": [
       "                          features  import\n",
       "22                           model    5714\n",
       "6                           adcode    3678\n",
       "5   shift_model_adcode_mt_label_12    3170\n",
       "2                            model     896\n",
       "30                        regMonth     889"
      ]
     },
     "execution_count": 27,
     "metadata": {},
     "output_type": "execute_result"
    }
   ],
   "source": [
    "df_imp.head()"
   ]
  },
  {
   "cell_type": "code",
   "execution_count": 17,
   "metadata": {},
   "outputs": [],
   "source": [
    "df_imp = ccf2.featImport(lgb_model,features)"
   ]
  },
  {
   "cell_type": "code",
   "execution_count": 30,
   "metadata": {},
   "outputs": [
    {
     "data": {
      "text/html": [
       "<div>\n",
       "<style scoped>\n",
       "    .dataframe tbody tr th:only-of-type {\n",
       "        vertical-align: middle;\n",
       "    }\n",
       "\n",
       "    .dataframe tbody tr th {\n",
       "        vertical-align: top;\n",
       "    }\n",
       "\n",
       "    .dataframe thead th {\n",
       "        text-align: right;\n",
       "    }\n",
       "</style>\n",
       "<table border=\"1\" class=\"dataframe\">\n",
       "  <thead>\n",
       "    <tr style=\"text-align: right;\">\n",
       "      <th></th>\n",
       "      <th>features</th>\n",
       "      <th>import</th>\n",
       "    </tr>\n",
       "  </thead>\n",
       "  <tbody>\n",
       "    <tr>\n",
       "      <th>119</th>\n",
       "      <td>adcode_model_mt_sum</td>\n",
       "      <td>1947</td>\n",
       "    </tr>\n",
       "    <tr>\n",
       "      <th>120</th>\n",
       "      <td>adcode_model_mt_mean</td>\n",
       "      <td>343</td>\n",
       "    </tr>\n",
       "    <tr>\n",
       "      <th>114</th>\n",
       "      <td>adcode_model_month_mim</td>\n",
       "      <td>270</td>\n",
       "    </tr>\n",
       "    <tr>\n",
       "      <th>138</th>\n",
       "      <td>adcode_bodyType_mt_mim</td>\n",
       "      <td>200</td>\n",
       "    </tr>\n",
       "    <tr>\n",
       "      <th>46</th>\n",
       "      <td>adcode_model</td>\n",
       "      <td>135</td>\n",
       "    </tr>\n",
       "  </tbody>\n",
       "</table>\n",
       "</div>"
      ],
      "text/plain": [
       "                   features  import\n",
       "119     adcode_model_mt_sum    1947\n",
       "120    adcode_model_mt_mean     343\n",
       "114  adcode_model_month_mim     270\n",
       "138  adcode_bodyType_mt_mim     200\n",
       "46             adcode_model     135"
      ]
     },
     "execution_count": 30,
     "metadata": {},
     "output_type": "execute_result"
    }
   ],
   "source": [
    "df_imp.head()"
   ]
  },
  {
   "cell_type": "code",
   "execution_count": 18,
   "metadata": {},
   "outputs": [
    {
     "data": {
      "text/html": [
       "<div>\n",
       "<style scoped>\n",
       "    .dataframe tbody tr th:only-of-type {\n",
       "        vertical-align: middle;\n",
       "    }\n",
       "\n",
       "    .dataframe tbody tr th {\n",
       "        vertical-align: top;\n",
       "    }\n",
       "\n",
       "    .dataframe thead th {\n",
       "        text-align: right;\n",
       "    }\n",
       "</style>\n",
       "<table border=\"1\" class=\"dataframe\">\n",
       "  <thead>\n",
       "    <tr style=\"text-align: right;\">\n",
       "      <th></th>\n",
       "      <th>features</th>\n",
       "      <th>import</th>\n",
       "    </tr>\n",
       "  </thead>\n",
       "  <tbody>\n",
       "    <tr>\n",
       "      <th>21</th>\n",
       "      <td>model</td>\n",
       "      <td>483</td>\n",
       "    </tr>\n",
       "    <tr>\n",
       "      <th>69</th>\n",
       "      <td>adcode_mt</td>\n",
       "      <td>367</td>\n",
       "    </tr>\n",
       "    <tr>\n",
       "      <th>101</th>\n",
       "      <td>model_mt</td>\n",
       "      <td>325</td>\n",
       "    </tr>\n",
       "    <tr>\n",
       "      <th>93</th>\n",
       "      <td>model_month</td>\n",
       "      <td>231</td>\n",
       "    </tr>\n",
       "    <tr>\n",
       "      <th>46</th>\n",
       "      <td>adcode_model_sum</td>\n",
       "      <td>227</td>\n",
       "    </tr>\n",
       "  </tbody>\n",
       "</table>\n",
       "</div>"
      ],
      "text/plain": [
       "             features  import\n",
       "21              model     483\n",
       "69          adcode_mt     367\n",
       "101          model_mt     325\n",
       "93        model_month     231\n",
       "46   adcode_model_sum     227"
      ]
     },
     "execution_count": 18,
     "metadata": {},
     "output_type": "execute_result"
    }
   ],
   "source": [
    "df_imp.head()"
   ]
  },
  {
   "cell_type": "code",
   "execution_count": null,
   "metadata": {},
   "outputs": [],
   "source": []
  }
 ],
 "metadata": {
  "kernelspec": {
   "display_name": "Python 3",
   "language": "python",
   "name": "python3"
  },
  "language_info": {
   "codemirror_mode": {
    "name": "ipython",
    "version": 3
   },
   "file_extension": ".py",
   "mimetype": "text/x-python",
   "name": "python",
   "nbconvert_exporter": "python",
   "pygments_lexer": "ipython3",
   "version": "3.6.5"
  },
  "toc": {
   "base_numbering": 1,
   "nav_menu": {},
   "number_sections": true,
   "sideBar": true,
   "skip_h1_title": false,
   "title_cell": "Table of Contents",
   "title_sidebar": "Contents",
   "toc_cell": false,
   "toc_position": {},
   "toc_section_display": true,
   "toc_window_display": true
  }
 },
 "nbformat": 4,
 "nbformat_minor": 2
}
